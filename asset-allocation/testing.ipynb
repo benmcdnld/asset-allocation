{
 "cells": [
  {
   "cell_type": "code",
   "execution_count": 1,
   "metadata": {},
   "outputs": [],
   "source": [
    "import numpy as np\n",
    "import pandas as pd\n",
    "from pypfopt.efficient_frontier import EfficientFrontier\n",
    "\n",
    "import mean_variance"
   ]
  },
  {
   "cell_type": "code",
   "execution_count": 45,
   "metadata": {},
   "outputs": [],
   "source": [
    "# Reads risk/return inputs and correlation matrix\n",
    "\n",
    "return_risk_df = pd.read_excel('..\\docs\\optimization_assumptions_2022.xlsx',\n",
    "                                sheet_name='return_risk', index_col=0)\n",
    "\n",
    "corr_df = pd.read_excel('..\\docs\\optimization_assumptions_2022.xlsx',\n",
    "                        sheet_name='corr', index_col=0)\n",
    "\n",
    "expected_returns = return_risk_df.exp_return"
   ]
  },
  {
   "cell_type": "code",
   "execution_count": 5,
   "metadata": {},
   "outputs": [],
   "source": [
    "# Produces covariance matrix from correlation matrix and standard deviation\n",
    "\n",
    "cov_df = corr_df.copy()\n",
    "\n",
    "for i in np.arange(return_risk_df.exp_risk.shape[0]):\n",
    "\n",
    "    for j in np.arange(return_risk_df.exp_risk.shape[0]):\n",
    "\n",
    "        cov_df.iloc[i,j] = cov_df.iloc[i,j] * return_risk_df.risk[i] * return_risk_df.risk[j]\n"
   ]
  },
  {
   "cell_type": "code",
   "execution_count": 18,
   "metadata": {},
   "outputs": [
    {
     "name": "stdout",
     "output_type": "stream",
     "text": [
      "OrderedDict([('treasuries', 0.0), ('credit', 0.10406), ('cdn_equity', 0.0), ('gbl_equity', 0.14797), ('em_equity', 0.0), ('alt_assets', 0.14797), ('alt_strats', 0.3), ('pvt_equity', 0.3)])\n"
     ]
    }
   ],
   "source": [
    "ef = EfficientFrontier(expected_returns, cov_df, weight_bounds=(0,0.3))  # setup\n",
    "clean_weights = ef.efficient_risk(0.12)  # find the portfolio that maximizes volatility\n",
    "cleaned_weights = ef.clean_weights()\n",
    "print(cleaned_weights)"
   ]
  },
  {
   "cell_type": "code",
   "execution_count": 29,
   "metadata": {},
   "outputs": [
    {
     "name": "stdout",
     "output_type": "stream",
     "text": [
      "Expected annual return: 7.6%\n",
      "Annual volatility: 12.0%\n",
      "Sharpe Ratio: 0.47\n"
     ]
    },
    {
     "data": {
      "text/plain": [
       "(0.0758780754870514, 0.11999999914095776, 0.465650632392208)"
      ]
     },
     "execution_count": 29,
     "metadata": {},
     "output_type": "execute_result"
    }
   ],
   "source": [
    "ef.portfolio_performance(verbose=True)"
   ]
  },
  {
   "cell_type": "code",
   "execution_count": 47,
   "metadata": {},
   "outputs": [],
   "source": [
    "sims = 1000     # Number of simulations to run\n",
    "max_w = 0.3     # Maximum weight of an asset class \n",
    "ret_sd = 0.01   # Standard deviation that long term expected annual returns varies by\n",
    "risk_sd = 0.01  # Standard deviation that long term expected annual volatility varies by\n",
    "\n",
    "total_weights = []\n",
    "total_performance = []\n",
    "\n",
    "for sim in np.arange(sims):\n",
    "\n",
    "    #Adds a layer of randomness to returns\n",
    "    expected_returns = [er + ret_sd * np.random.randn() for er in return_risk_df.exp_return]\n",
    "\n",
    "    #Adds a layer of randomness to risk\n",
    "    expected_risk = [er + risk_sd * np.random.randn() for er in return_risk_df.exp_risk]\n",
    "\n",
    "     # Produces covariance matrix from correlation matrix and standard deviation\n",
    "    cov_df = corr_df.copy()\n",
    "    \n",
    "    for i in np.arange(return_risk_df.exp_risk.shape[0]):\n",
    "\n",
    "        for j in np.arange(return_risk_df.exp_risk.shape[0]):\n",
    "\n",
    "            cov_df.iloc[i,j] = cov_df.iloc[i,j] * return_risk_df.exp_risk[i] * return_risk_df.exp_risk[j]\n",
    "    \n",
    "    # Setup mean variance\n",
    "    ef = EfficientFrontier(expected_returns, cov_df, weight_bounds=(0,max_w)) \n",
    "    clean_weights = ef.efficient_risk(0.12)  # find the portfolio that minimises volatility and L2_reg\n",
    "    cleaned_weights = ef.clean_weights()\n",
    "\n",
    "    # Saves each simulation's portfolios weights and performance \n",
    "    total_weights.append(list(cleaned_weights.values()))\n",
    "    total_performance.append(list(ef.portfolio_performance(verbose=False)))\n",
    "\n"
   ]
  },
  {
   "cell_type": "code",
   "execution_count": 63,
   "metadata": {},
   "outputs": [
    {
     "name": "stdout",
     "output_type": "stream",
     "text": [
      "treasuries: 5.38\n",
      "credit: 9.8\n",
      "cdn_equity: 4.99\n",
      "gbl_equity: 13.42\n",
      "em_equity: 3.02\n",
      "alt_assets: 13.76\n",
      "alt_strats: 22.82\n",
      "pvt_equity: 26.8\n"
     ]
    }
   ],
   "source": [
    "# Takes the average of the simulation weights for each asset class \n",
    "average_weights = np.mean(total_weights, axis=0)\n",
    "\n",
    "# Prints the weights\n",
    "for i in np.arange(average_weights.shape[0]):\n",
    "    print(f'{corr_df.columns[i]}: {np.round(average_weights[i]*100, 2)}')"
   ]
  },
  {
   "cell_type": "code",
   "execution_count": 71,
   "metadata": {},
   "outputs": [
    {
     "name": "stdout",
     "output_type": "stream",
     "text": [
      "Expected return: 7.88\n",
      "Expected risk: 12.0\n",
      "Expected Sharpe: 0.49\n"
     ]
    }
   ],
   "source": [
    "# Takes the average of the simulation performance for each metric\n",
    "average_performance = np.mean(total_performance, axis=0)\n",
    "\n",
    "# Prints the metrics\n",
    "print(f'Expected return: {np.round(average_performance[0]*100,2)}')\n",
    "print(f'Expected risk: {np.round(average_performance[1]*100,2)}')\n",
    "print(f'Expected Sharpe: {np.round(average_performance[2],3)}')"
   ]
  },
  {
   "cell_type": "code",
   "execution_count": 2,
   "metadata": {},
   "outputs": [
    {
     "name": "stdout",
     "output_type": "stream",
     "text": [
      "WEIGHTS\n",
      "treasuries: 5.09\n",
      "credit: 9.52\n",
      "cdn_equity: 4.67\n",
      "gbl_equity: 14.39\n",
      "em_equity: 2.68\n",
      "alt_assets: 14.11\n",
      "alt_strats: 22.9\n",
      "pvt_equity: 26.64\n",
      "\n",
      "PERFORMANCE\n",
      "Expected return: 7.89\n",
      "Expected risk: 12.0\n",
      "Expected Sharpe: 0.491\n"
     ]
    }
   ],
   "source": [
    "mean_variance.algorithm()"
   ]
  },
  {
   "cell_type": "code",
   "execution_count": null,
   "metadata": {},
   "outputs": [],
   "source": []
  }
 ],
 "metadata": {
  "kernelspec": {
   "display_name": "Python 3.10.5 64-bit",
   "language": "python",
   "name": "python3"
  },
  "language_info": {
   "codemirror_mode": {
    "name": "ipython",
    "version": 3
   },
   "file_extension": ".py",
   "mimetype": "text/x-python",
   "name": "python",
   "nbconvert_exporter": "python",
   "pygments_lexer": "ipython3",
   "version": "3.10.5"
  },
  "orig_nbformat": 4,
  "vscode": {
   "interpreter": {
    "hash": "33bebdb09421bcfa544a1fffd13bb93de8b8ad8e11ee670169bfd8216839b609"
   }
  }
 },
 "nbformat": 4,
 "nbformat_minor": 2
}
