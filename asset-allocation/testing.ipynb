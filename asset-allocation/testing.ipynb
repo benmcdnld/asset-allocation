{
 "cells": [
  {
   "cell_type": "code",
   "execution_count": 1,
   "metadata": {},
   "outputs": [],
   "source": [
    "import numpy as np\n",
    "import pandas as pd\n",
    "from pypfopt.efficient_frontier import EfficientFrontier\n",
    "\n",
    "import mean_variance"
   ]
  },
  {
   "cell_type": "code",
   "execution_count": 2,
   "metadata": {},
   "outputs": [],
   "source": [
    "# Reads risk/return inputs and correlation matrix\n",
    "\n",
    "return_risk_df = pd.read_excel('..\\docs\\optimization_assumptions_2023.xlsx',\n",
    "                                sheet_name='return_risk', index_col=0)\n",
    "\n",
    "corr_df = pd.read_excel('..\\docs\\optimization_assumptions_2023.xlsx',\n",
    "                        sheet_name='corr', index_col=0)\n",
    "\n",
    "expected_returns = return_risk_df.exp_return"
   ]
  },
  {
   "cell_type": "code",
   "execution_count": 3,
   "metadata": {},
   "outputs": [],
   "source": [
    "# Produces covariance matrix from correlation matrix and standard deviation\n",
    "\n",
    "cov_df = corr_df.copy()\n",
    "\n",
    "for i in np.arange(return_risk_df.exp_risk.shape[0]):\n",
    "\n",
    "    for j in np.arange(return_risk_df.exp_risk.shape[0]):\n",
    "\n",
    "        cov_df.iloc[i,j] = cov_df.iloc[i,j] * return_risk_df.exp_risk[i] * return_risk_df.exp_risk[j]\n"
   ]
  },
  {
   "cell_type": "code",
   "execution_count": 7,
   "metadata": {},
   "outputs": [
    {
     "name": "stdout",
     "output_type": "stream",
     "text": [
      "WEIGHTS\n",
      "treasuries: 28.45\n",
      "credit: 19.42\n",
      "equity: 4.04\n",
      "alt_assets: 6.47\n",
      "alt_strats: 13.75\n",
      "pvt_equity: 27.87\n",
      "\n",
      "PERFORMANCE\n",
      "Expected return: 8.36\n",
      "Expected risk: 9.0\n",
      "Expected Sharpe: 0.707\n"
     ]
    }
   ],
   "source": [
    "#Runs mean variance portfolio algorithm given a maximum standard deviation\n",
    "mean_variance.mv_portfolio(.09)"
   ]
  },
  {
   "attachments": {},
   "cell_type": "markdown",
   "metadata": {},
   "source": [
    "\n",
    "\n",
    "\n",
    "\n",
    "\n",
    "\n",
    "***TESTING***\n",
    "\n",
    "\n",
    "\n",
    "\n"
   ]
  },
  {
   "cell_type": "code",
   "execution_count": 11,
   "metadata": {},
   "outputs": [
    {
     "name": "stdout",
     "output_type": "stream",
     "text": [
      "OrderedDict([('treasuries', 0.11514), ('credit', 0.3), ('equity', 0.27334), ('alt_assets', 0.01152), ('alt_strats', 0.0), ('pvt_equity', 0.3)])\n"
     ]
    }
   ],
   "source": [
    "ef = EfficientFrontier(expected_returns, cov_df, weight_bounds=(0,0.3))  # setup\n",
    "clean_weights = ef.efficient_risk(0.12)  # find the portfolio that maximizes volatility\n",
    "cleaned_weights = ef.clean_weights()\n",
    "print(cleaned_weights)"
   ]
  },
  {
   "cell_type": "code",
   "execution_count": 19,
   "metadata": {},
   "outputs": [
    {
     "name": "stdout",
     "output_type": "stream",
     "text": [
      "Expected annual return: 9.2%\n",
      "Annual volatility: 12.0%\n",
      "Sharpe Ratio: 0.60\n"
     ]
    },
    {
     "data": {
      "text/plain": [
       "(0.09162798361962998, 0.1199999992934208, 0.5968998670115584)"
      ]
     },
     "execution_count": 19,
     "metadata": {},
     "output_type": "execute_result"
    }
   ],
   "source": [
    "ef.portfolio_performance(verbose=True)"
   ]
  },
  {
   "cell_type": "code",
   "execution_count": 20,
   "metadata": {},
   "outputs": [],
   "source": [
    "sims = 1000     # Number of simulations to run\n",
    "max_w = 0.3     # Maximum weight of an asset class \n",
    "ret_sd = 0.01   # Standard deviation that long term expected annual returns varies by\n",
    "risk_sd = 0.01  # Standard deviation that long term expected annual volatility varies by\n",
    "\n",
    "total_weights = []\n",
    "total_performance = []\n",
    "\n",
    "for sim in np.arange(sims):\n",
    "\n",
    "    #Adds a layer of randomness to returns\n",
    "    expected_returns = [er + ret_sd * np.random.randn() for er in return_risk_df.exp_return]\n",
    "\n",
    "    #Adds a layer of randomness to risk\n",
    "    expected_risk = [er + risk_sd * np.random.randn() for er in return_risk_df.exp_risk]\n",
    "\n",
    "     # Produces covariance matrix from correlation matrix and standard deviation\n",
    "    cov_df = corr_df.copy()\n",
    "    \n",
    "    for i in np.arange(return_risk_df.exp_risk.shape[0]):\n",
    "\n",
    "        for j in np.arange(return_risk_df.exp_risk.shape[0]):\n",
    "\n",
    "            cov_df.iloc[i,j] = cov_df.iloc[i,j] * return_risk_df.exp_risk[i] * return_risk_df.exp_risk[j]\n",
    "    \n",
    "    # Setup mean variance\n",
    "    ef = EfficientFrontier(expected_returns, cov_df, weight_bounds=(0,max_w)) \n",
    "    clean_weights = ef.efficient_risk(0.12)  # find the portfolio that minimises volatility and L2_reg\n",
    "    cleaned_weights = ef.clean_weights()\n",
    "\n",
    "    # Saves each simulation's portfolios weights and performance \n",
    "    total_weights.append(list(cleaned_weights.values()))\n",
    "    total_performance.append(list(ef.portfolio_performance(verbose=False)))\n",
    "\n"
   ]
  },
  {
   "cell_type": "code",
   "execution_count": 21,
   "metadata": {},
   "outputs": [
    {
     "name": "stdout",
     "output_type": "stream",
     "text": [
      "treasuries: 11.74\n",
      "credit: 17.91\n",
      "equity: 18.96\n",
      "alt_assets: 12.99\n",
      "alt_strats: 8.5\n",
      "pvt_equity: 29.91\n"
     ]
    }
   ],
   "source": [
    "# Takes the average of the simulation weights for each asset class \n",
    "average_weights = np.mean(total_weights, axis=0)\n",
    "\n",
    "# Prints the weights\n",
    "for i in np.arange(average_weights.shape[0]):\n",
    "    print(f'{corr_df.columns[i]}: {np.round(average_weights[i]*100, 2)}')"
   ]
  },
  {
   "cell_type": "code",
   "execution_count": 22,
   "metadata": {},
   "outputs": [
    {
     "name": "stdout",
     "output_type": "stream",
     "text": [
      "Expected return: 9.41\n",
      "Expected risk: 12.0\n",
      "Expected Sharpe: 0.617\n"
     ]
    }
   ],
   "source": [
    "# Takes the average of the simulation performance for each metric\n",
    "average_performance = np.mean(total_performance, axis=0)\n",
    "\n",
    "# Prints the metrics\n",
    "print(f'Expected return: {np.round(average_performance[0]*100,2)}')\n",
    "print(f'Expected risk: {np.round(average_performance[1]*100,2)}')\n",
    "print(f'Expected Sharpe: {np.round(average_performance[2],3)}')"
   ]
  },
  {
   "cell_type": "code",
   "execution_count": null,
   "metadata": {},
   "outputs": [],
   "source": []
  }
 ],
 "metadata": {
  "kernelspec": {
   "display_name": "Python 3.10.5 64-bit",
   "language": "python",
   "name": "python3"
  },
  "language_info": {
   "codemirror_mode": {
    "name": "ipython",
    "version": 3
   },
   "file_extension": ".py",
   "mimetype": "text/x-python",
   "name": "python",
   "nbconvert_exporter": "python",
   "pygments_lexer": "ipython3",
   "version": "3.10.5"
  },
  "orig_nbformat": 4,
  "vscode": {
   "interpreter": {
    "hash": "33bebdb09421bcfa544a1fffd13bb93de8b8ad8e11ee670169bfd8216839b609"
   }
  }
 },
 "nbformat": 4,
 "nbformat_minor": 2
}
